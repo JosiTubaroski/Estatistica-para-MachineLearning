{
 "cells": [
  {
   "cell_type": "markdown",
   "id": "2c788274",
   "metadata": {},
   "source": [
    "### Visão Geral de Estatística"
   ]
  },
  {
   "cell_type": "markdown",
   "id": "d940ee4d",
   "metadata": {},
   "source": [
    "![.](01_Cientista_Dados.GIF)"
   ]
  },
  {
   "cell_type": "markdown",
   "id": "8459d487",
   "metadata": {},
   "source": [
    "### Principais algoritimos de Machine Learning"
   ]
  },
  {
   "cell_type": "markdown",
   "id": "fe9c4c05",
   "metadata": {},
   "source": [
    "![.](02_Algoritimos_MachineLearning.GIF)"
   ]
  },
  {
   "cell_type": "markdown",
   "id": "d5dcab82",
   "metadata": {},
   "source": [
    "### Elementos de Machine Learning\n",
    "\n",
    "- Machine learnings basicamente engloba 3 áreas (Matemática / Estatística e Programação)"
   ]
  },
  {
   "cell_type": "markdown",
   "id": "837f4c4b",
   "metadata": {},
   "source": [
    "![.](03_MachineLearning.GIF)"
   ]
  },
  {
   "cell_type": "markdown",
   "id": "cb154883",
   "metadata": {},
   "source": [
    "### Para compreensão inicial utilizaremos mais exemplos e menos formulas"
   ]
  },
  {
   "cell_type": "markdown",
   "id": "5dfa4a6c",
   "metadata": {},
   "source": [
    "![.](04_Menos_Formulas.GIF)"
   ]
  },
  {
   "cell_type": "markdown",
   "id": "99408926",
   "metadata": {},
   "source": [
    "#### Exemplos de Análise de Estatística."
   ]
  },
  {
   "cell_type": "markdown",
   "id": "b2c0c88d",
   "metadata": {},
   "source": [
    "**Foram feitas analises estatistica para verificar a probabilidade de ganhar a copa de 2018**"
   ]
  },
  {
   "cell_type": "markdown",
   "id": "b5cb0ec5",
   "metadata": {},
   "source": [
    "![.](05_Analise_Gols.GIF)\n",
    "\n",
    "<b>------------------------------------------------------------------------------------------------------------------------------------------------------------------------------------------------------------------</b>"
   ]
  },
  {
   "cell_type": "markdown",
   "id": "a787f927",
   "metadata": {},
   "source": [
    "![.](06_Sobre_Estatistica.GIF)\n",
    "\n",
    "<b>------------------------------------------------------------------------------------------------------------------------------------------------------------------------------------------------------------------</b>"
   ]
  },
  {
   "cell_type": "markdown",
   "id": "0fadaed9",
   "metadata": {},
   "source": [
    "![.](07_Cases.GIF)\n",
    "\n",
    "<b>------------------------------------------------------------------------------------------------------------------------------------------------------------------------------------------------------------------</b>"
   ]
  },
  {
   "cell_type": "markdown",
   "id": "e097833c",
   "metadata": {},
   "source": [
    "![.](08_Estatistica_Inferencial.GIF)"
   ]
  },
  {
   "cell_type": "markdown",
   "id": "679d787e",
   "metadata": {},
   "source": [
    "<b>------------------------------------------------------------------------------------------------------------------------------------------------------------------------------------------------------------------</b>"
   ]
  },
  {
   "cell_type": "markdown",
   "id": "e2ee8586",
   "metadata": {},
   "source": [
    "**Exemplo de Probabilidade:** Quero saber a probabilidade de acertar um numero."
   ]
  },
  {
   "cell_type": "markdown",
   "id": "3714dc9f",
   "metadata": {},
   "source": [
    "![.](09_Probabilidade.GIF)"
   ]
  },
  {
   "cell_type": "code",
   "execution_count": null,
   "id": "37251cd0",
   "metadata": {},
   "outputs": [],
   "source": [
    "1 / 6 = 0.17"
   ]
  },
  {
   "cell_type": "markdown",
   "id": "da9ee091",
   "metadata": {},
   "source": [
    "**Outro Exemplo:** De acordo com a umidade do ar é possivel saber a probabilidade de chuva."
   ]
  },
  {
   "cell_type": "markdown",
   "id": "2768cb39",
   "metadata": {},
   "source": [
    "-------------------------------------------------------------------------------------------------------------------------------"
   ]
  },
  {
   "cell_type": "markdown",
   "id": "4d3de141",
   "metadata": {},
   "source": [
    "## Descritiva"
   ]
  },
  {
   "cell_type": "markdown",
   "id": "d4980954",
   "metadata": {},
   "source": [
    "![.](10_Probabilidade_Descritiva.GIF)"
   ]
  },
  {
   "cell_type": "markdown",
   "id": "1741941f",
   "metadata": {},
   "source": [
    "<b>------------------------------------------------------------------------------------------------------------------------------------------------------------------------------------------------------------------</b>\n",
    "\n",
    "## Inferencial"
   ]
  },
  {
   "cell_type": "markdown",
   "id": "0dfa531a",
   "metadata": {},
   "source": [
    "![.](11_Inferencial.GIF)"
   ]
  },
  {
   "cell_type": "markdown",
   "id": "67732e67",
   "metadata": {},
   "source": [
    "![.](12_Estatistica.GIF)"
   ]
  },
  {
   "cell_type": "markdown",
   "id": "4f9735c4",
   "metadata": {},
   "source": [
    "<b>------------------------------------------------------------------------------------------------------------------------------------------------------------------------------------------------------------------</b>\n",
    "\n",
    "# Sobre População e Amostra"
   ]
  },
  {
   "cell_type": "markdown",
   "id": "cbc64bb9",
   "metadata": {},
   "source": [
    "![.](13_Populacao.GIF)"
   ]
  },
  {
   "cell_type": "markdown",
   "id": "3eeee39b",
   "metadata": {},
   "source": [
    "![.](14_Representatividade.GIF)"
   ]
  },
  {
   "cell_type": "markdown",
   "id": "33fd0803",
   "metadata": {},
   "source": [
    "![.](15_Amostra.GIF)"
   ]
  },
  {
   "cell_type": "markdown",
   "id": "512c1e67",
   "metadata": {},
   "source": [
    "![.](16_Populacao_Amostra.GIF)"
   ]
  },
  {
   "cell_type": "markdown",
   "id": "be3a11ec",
   "metadata": {},
   "source": [
    "![.](17_teste.GIF)"
   ]
  },
  {
   "cell_type": "markdown",
   "id": "b373799c",
   "metadata": {},
   "source": [
    "Amostra é um subconjunto dentro de um conjunto."
   ]
  },
  {
   "cell_type": "markdown",
   "id": "c758a020",
   "metadata": {},
   "source": [
    "<b>------------------------------------------------------------------------------------------------------------------------------------------------------------------------------------------------------------------</b>\n",
    "\n",
    "# Falando de Dados"
   ]
  },
  {
   "cell_type": "markdown",
   "id": "7a155bd4",
   "metadata": {},
   "source": [
    "![.](18_OQUE_Sao.GIF)"
   ]
  },
  {
   "cell_type": "code",
   "execution_count": null,
   "id": "b77f0a51",
   "metadata": {},
   "outputs": [],
   "source": [
    "Dado + Contexto = Informação "
   ]
  },
  {
   "cell_type": "code",
   "execution_count": null,
   "id": "128ef1a6",
   "metadata": {},
   "outputs": [],
   "source": [
    "Informação + Informação = Conhecimento"
   ]
  },
  {
   "cell_type": "markdown",
   "id": "52739bc7",
   "metadata": {},
   "source": [
    "**Exemplo:**"
   ]
  },
  {
   "cell_type": "markdown",
   "id": "1404aa80",
   "metadata": {},
   "source": [
    "![.](19_Dado_Informacao_Conhecimento.GIF)"
   ]
  },
  {
   "cell_type": "code",
   "execution_count": null,
   "id": "0c40302a",
   "metadata": {},
   "outputs": [],
   "source": [
    "Relação de Business Intelligente -> Machine Leaning"
   ]
  },
  {
   "cell_type": "markdown",
   "id": "0241d6bb",
   "metadata": {},
   "source": [
    "![.](20_BI_Machine.GIF)"
   ]
  },
  {
   "cell_type": "markdown",
   "id": "25aef33d",
   "metadata": {},
   "source": [
    "<b>------------------------------------------------------------------------------------------------------------------------------------------------------------------------------------------------------------------</b>\n",
    "\n",
    "**Business Inteligence:**\n",
    "\n",
    "- Reativo: Reage a algo que já ocorreu, trata do que ocorreu no passado.\n",
    "\n",
    "**Machine Learning:**\n",
    "\n",
    "- Preventivo: O que poderá ocorrer."
   ]
  },
  {
   "cell_type": "markdown",
   "id": "938305da",
   "metadata": {},
   "source": [
    "![.](21_Tipos_Dados.GIF)"
   ]
  },
  {
   "cell_type": "markdown",
   "id": "082414aa",
   "metadata": {},
   "source": [
    "<b>------------------------------------------------------------------------------------------------------------------------------------------------------------------------------------------------------------------</b>\n",
    "\n",
    "## Tipos de Dados"
   ]
  },
  {
   "cell_type": "markdown",
   "id": "be0c4b24",
   "metadata": {},
   "source": [
    "![.](22_Tipos_Dados.GIF)"
   ]
  },
  {
   "cell_type": "markdown",
   "id": "9a3ce554",
   "metadata": {},
   "source": [
    "![.](23_Quantitativo_Categoricos.GIF)"
   ]
  },
  {
   "cell_type": "markdown",
   "id": "39dcfc71",
   "metadata": {},
   "source": [
    "**Quantitativos:** Relatam a quantidade de alguma coisa.\n",
    "\n",
    "**Categóricos:** Não mensura quantidade, apenas classifica."
   ]
  },
  {
   "cell_type": "markdown",
   "id": "f4f03da8",
   "metadata": {},
   "source": [
    "### Exemplos:\n",
    "\n",
    "**Dados Quantitativos:** Numero de Torcedores, Valor do Ingresso, Total de gols, Renda da Partida.\n",
    "\n",
    "**Dados Categóricos:** Cartões Amarelos e Vermelhos, Nomes das Equipes, Número das Camisas, Tipo do Assento."
   ]
  },
  {
   "cell_type": "markdown",
   "id": "0f77a439",
   "metadata": {},
   "source": [
    "![.](24_Quantitativo_Continuo.GIF)"
   ]
  },
  {
   "cell_type": "markdown",
   "id": "f1fbae76",
   "metadata": {},
   "source": [
    "![.](25_Explicando_Categorias.GIF)"
   ]
  },
  {
   "cell_type": "markdown",
   "id": "22b72887",
   "metadata": {},
   "source": [
    "<b>------------------------------------------------------------------------------------------------------------------------------------------------------------------------------------------------------------------</b>\n",
    "\n",
    "### Analisando Dados Quantitativos"
   ]
  },
  {
   "cell_type": "markdown",
   "id": "49752c38",
   "metadata": {},
   "source": [
    "![.](26_Analises_Quantitativas.GIF)"
   ]
  },
  {
   "cell_type": "markdown",
   "id": "bd2b185f",
   "metadata": {},
   "source": [
    "![.](27_Verificando_Dados.GIF)"
   ]
  },
  {
   "cell_type": "markdown",
   "id": "9b053417",
   "metadata": {},
   "source": [
    "<b>------------------------------------------------------------------------------------------------------------------------------------------------------------------------------------------------------------------</b>\n",
    "\n",
    "### Medidas de Tendencias"
   ]
  },
  {
   "cell_type": "markdown",
   "id": "3cd5f0fb",
   "metadata": {},
   "source": [
    "**Média:** O valor da média é a soma das ocorrencias, dividido pelo número de ocorrências."
   ]
  },
  {
   "cell_type": "markdown",
   "id": "48eb5914",
   "metadata": {},
   "source": [
    "![.](28_Gols.GIF)"
   ]
  },
  {
   "cell_type": "markdown",
   "id": "56d32e5f",
   "metadata": {},
   "source": [
    "![.](29_Media_Gols.GIF)"
   ]
  },
  {
   "cell_type": "markdown",
   "id": "eb5878f2",
   "metadata": {},
   "source": [
    "![.](30_Media_Alunos.GIF)"
   ]
  },
  {
   "cell_type": "markdown",
   "id": "a5241264",
   "metadata": {},
   "source": [
    "![.](31_Pecas_Perdidas.GIF)"
   ]
  },
  {
   "cell_type": "markdown",
   "id": "baa60768",
   "metadata": {},
   "source": [
    "<font size=\"3\">250 é atipico, o que pode prejudicar o calculo da média</font>"
   ]
  },
  {
   "cell_type": "markdown",
   "id": "f0cecad4",
   "metadata": {},
   "source": [
    "![.](32_Problemas_Media.GIF)"
   ]
  },
  {
   "cell_type": "markdown",
   "id": "06997c87",
   "metadata": {},
   "source": [
    "![.](33_Verificando_Media.GIF)"
   ]
  },
  {
   "cell_type": "markdown",
   "id": "c20e0918",
   "metadata": {},
   "source": [
    "<font size=\"3\">**Mediana:** A mediana é o número que está exatamente no meio da distribuição.</font>"
   ]
  },
  {
   "cell_type": "markdown",
   "id": "01534530",
   "metadata": {},
   "source": [
    "![.](34_Roll_RangeNotas.GIF)"
   ]
  },
  {
   "cell_type": "markdown",
   "id": "9e91ba66",
   "metadata": {},
   "source": [
    "![.](35_Mediana_ConjuntoDados.GIF)"
   ]
  },
  {
   "cell_type": "markdown",
   "id": "d0db1081",
   "metadata": {},
   "source": [
    "<font size=\"3\">Coluna com 20 elementos, numero par é verificado os 2 valores no centro.</font>\n",
    "\n",
    "<font size=\"3\">Somar os 2 valores e divir por 2.</font>\n",
    "\n",
    "<font size=\"3\">A mediana do conjunto de dados é **5.5**</font>"
   ]
  },
  {
   "cell_type": "markdown",
   "id": "e6618758",
   "metadata": {},
   "source": [
    "![.](36_Mediana_Elemento_Impar.GIF)"
   ]
  },
  {
   "cell_type": "markdown",
   "id": "2a37cf49",
   "metadata": {},
   "source": [
    "![.](37_Mediana_PecasPerdidas.GIF)"
   ]
  },
  {
   "cell_type": "markdown",
   "id": "5f578dc0",
   "metadata": {},
   "source": [
    "<font size=\"3\">**Moda:** A moda é o valor que mais ocorre</font>"
   ]
  },
  {
   "cell_type": "markdown",
   "id": "c0f282ad",
   "metadata": {},
   "source": [
    "![.](38_Moda.GIF)"
   ]
  },
  {
   "cell_type": "markdown",
   "id": "72260ba6",
   "metadata": {},
   "source": [
    "<font size=\"3\">**No conjunto de dados abaixo, a moda é 100.**</font>"
   ]
  },
  {
   "cell_type": "markdown",
   "id": "544628a9",
   "metadata": {},
   "source": [
    "![.](39_Moda_Conjunto.GIF)"
   ]
  },
  {
   "cell_type": "markdown",
   "id": "0ec3a8f7",
   "metadata": {},
   "source": [
    "<font size=\"3\">Distribuição BI-Modal</font>"
   ]
  },
  {
   "cell_type": "markdown",
   "id": "11600c4d",
   "metadata": {},
   "source": [
    "![.](40_BI_Modal.GIF)"
   ]
  },
  {
   "cell_type": "markdown",
   "id": "10f4267d",
   "metadata": {},
   "source": [
    "<font size=\"3\">**Distribuição Amodal** - Quando nenhum valor se repete.</font>"
   ]
  },
  {
   "cell_type": "markdown",
   "id": "3dfd2594",
   "metadata": {},
   "source": [
    "![.](41_Distribuicao_Amodal.GIF)"
   ]
  },
  {
   "cell_type": "markdown",
   "id": "186772c4",
   "metadata": {},
   "source": [
    "![.](42_Simetria_Distribuição.GIF)"
   ]
  },
  {
   "cell_type": "markdown",
   "id": "480f58e4",
   "metadata": {},
   "source": [
    "- <font size=\"3\">Verifcando <u>Média</u> e <u>Mediana</u> com **Outliers**</font>"
   ]
  },
  {
   "cell_type": "markdown",
   "id": "9dded97e",
   "metadata": {},
   "source": [
    "![.](43_Media_Mediana_Outliers.GIF)"
   ]
  },
  {
   "cell_type": "markdown",
   "id": "08edba48",
   "metadata": {},
   "source": [
    "<font size=\"3\">Exemplo de outlier para Baixo.</font>"
   ]
  },
  {
   "cell_type": "markdown",
   "id": "edcb28ca",
   "metadata": {},
   "source": [
    "![.](44_Outlier_para_baixo.GIF)"
   ]
  },
  {
   "cell_type": "markdown",
   "id": "cc233e8d",
   "metadata": {},
   "source": [
    "<font size=\"3\">Mediana igual a média significa que o set não possui outlier</font>"
   ]
  },
  {
   "cell_type": "markdown",
   "id": "f5bff739",
   "metadata": {},
   "source": [
    "![.](45_Medida_Simetrica.GIF)"
   ]
  },
  {
   "cell_type": "markdown",
   "id": "febdf1d5",
   "metadata": {},
   "source": [
    "## Medidas de Dispersão"
   ]
  },
  {
   "cell_type": "markdown",
   "id": "c3539270",
   "metadata": {},
   "source": [
    "![.](46_Medidas_Dispercao.GIF)"
   ]
  },
  {
   "cell_type": "markdown",
   "id": "87daa494",
   "metadata": {},
   "source": [
    "![.](47_Histogramas.GIF)"
   ]
  },
  {
   "cell_type": "markdown",
   "id": "1e9bd413",
   "metadata": {},
   "source": [
    "<font size=\"5\"> **Cenário de Estudo:**</font>"
   ]
  },
  {
   "cell_type": "markdown",
   "id": "8ffb82be",
   "metadata": {},
   "source": [
    "![.](48_Cenario_Analisado.GIF)"
   ]
  },
  {
   "cell_type": "markdown",
   "id": "5b0ae88f",
   "metadata": {},
   "source": [
    "**Primeiro Passo:**\n",
    "    \n",
    "   - Organizar os dados (roll)"
   ]
  },
  {
   "cell_type": "markdown",
   "id": "46c2b7dd",
   "metadata": {},
   "source": [
    "![.](49_Roll_Dados.GIF)"
   ]
  },
  {
   "cell_type": "markdown",
   "id": "0faf8385",
   "metadata": {},
   "source": [
    "![.](50_Classificando.GIF)"
   ]
  },
  {
   "cell_type": "markdown",
   "id": "6a6f23a2",
   "metadata": {},
   "source": [
    "![.](51_Histograma.GIF)"
   ]
  },
  {
   "cell_type": "markdown",
   "id": "fe240c94",
   "metadata": {},
   "source": [
    "![.](52_NumerosMagicos.GIF)"
   ]
  },
  {
   "cell_type": "markdown",
   "id": "fc1ca5bc",
   "metadata": {},
   "source": [
    "![.](53_Resumo.GIF)"
   ]
  },
  {
   "cell_type": "markdown",
   "id": "032612a9",
   "metadata": {},
   "source": [
    "![.](54_Range_Numerico.GIF)"
   ]
  },
  {
   "cell_type": "markdown",
   "id": "1d20732f",
   "metadata": {},
   "source": [
    "Organizar os valores em primeiro lugar"
   ]
  },
  {
   "cell_type": "markdown",
   "id": "e9b34a4d",
   "metadata": {},
   "source": [
    "![.](55_Ordenar_Sempre.GIF)"
   ]
  },
  {
   "cell_type": "markdown",
   "id": "ecd86b3c",
   "metadata": {},
   "source": [
    "Localizando a Mediana"
   ]
  },
  {
   "cell_type": "markdown",
   "id": "47465087",
   "metadata": {},
   "source": [
    "![.](56_Mediana.GIF)"
   ]
  },
  {
   "cell_type": "code",
   "execution_count": null,
   "id": "4ec90e4e",
   "metadata": {},
   "outputs": [],
   "source": [
    "Identificando os quartis"
   ]
  },
  {
   "cell_type": "markdown",
   "id": "8c518bca",
   "metadata": {},
   "source": [
    "![.](57_Identificando_Quartis.GIF)"
   ]
  },
  {
   "cell_type": "markdown",
   "id": "c70c28f9",
   "metadata": {},
   "source": [
    "![.](58_Verificando_Resultados.GIF)"
   ]
  },
  {
   "cell_type": "markdown",
   "id": "d2e14058",
   "metadata": {},
   "source": [
    "<b>------------------------------------------------------------------------------------------------------------------------------------------------------------------------------------------------------------------</b>\n",
    "\n",
    "### Amplitude"
   ]
  },
  {
   "cell_type": "markdown",
   "id": "dd7dab1e",
   "metadata": {},
   "source": [
    "![.](59_Amplitude.GIF)"
   ]
  },
  {
   "cell_type": "markdown",
   "id": "62044f73",
   "metadata": {},
   "source": [
    "<b>------------------------------------------------------------------------------------------------------------------------------------------------------------------------------------------------------------------</b>\n",
    "\n",
    "### Amplitude Interquartil"
   ]
  },
  {
   "cell_type": "markdown",
   "id": "f8821b3c",
   "metadata": {},
   "source": [
    "![.](60_Amplitude_Intequartil.GIF)"
   ]
  },
  {
   "cell_type": "markdown",
   "id": "5029e14c",
   "metadata": {},
   "source": [
    "\n",
    "<b>------------------------------------------------------------------------------------------------------------------------------------------------------------------------------------------------------------------</b>\n",
    "### Resumo:"
   ]
  },
  {
   "cell_type": "markdown",
   "id": "8690801d",
   "metadata": {},
   "source": [
    "![.](61_Resumo_Geral.GIF)"
   ]
  },
  {
   "cell_type": "markdown",
   "id": "9acec6c1",
   "metadata": {},
   "source": [
    "<b>------------------------------------------------------------------------------------------------------------------------------------------------------------------------------------------------------------------</b>"
   ]
  },
  {
   "cell_type": "markdown",
   "id": "d2e12a6e",
   "metadata": {},
   "source": [
    "### Desvio Padrão e Variancia "
   ]
  },
  {
   "cell_type": "markdown",
   "id": "ed729900",
   "metadata": {},
   "source": [
    "- A variância indica o quanto os dados estão distantes da média. Para representarmos toda uma distribuição com um só número teremos alguns passos a seguir."
   ]
  },
  {
   "cell_type": "markdown",
   "id": "9015c302",
   "metadata": {},
   "source": [
    "**Exemplo:**\n",
    "    \n",
    "![.](Media.GIF)"
   ]
  },
  {
   "cell_type": "markdown",
   "id": "ed46685a",
   "metadata": {},
   "source": [
    "**Média** = (4.0 + 4.0 + 5.0 + 7.0 + 9.0) / 5 = 5.8"
   ]
  },
  {
   "cell_type": "markdown",
   "id": "f34b774d",
   "metadata": {},
   "source": [
    "**Variância** = ((4.0 - 5.8) + (4.0 - 5.8) + (5.0 - 5.8) + (7.0 - 5.8) + (9.0 - 5.8)) / 5 \n",
    "                   "
   ]
  },
  {
   "cell_type": "markdown",
   "id": "f4f4bcd0",
   "metadata": {},
   "source": [
    " -1.8           -1.8          -0.8          1.2            3.2 "
   ]
  },
  {
   "cell_type": "markdown",
   "id": "86f4cb6a",
   "metadata": {},
   "source": [
    "<b>------------------------------------------------------------------------------------------------------------------------------------------------------------------------------------------------------------------</b>\n",
    "\n",
    "**Como não podemos ter distancias negativas, elevamos os resultados ao quadrado.**"
   ]
  },
  {
   "cell_type": "code",
   "execution_count": null,
   "id": "0dc14b89",
   "metadata": {},
   "outputs": [],
   "source": [
    " 3.24           3.24           0.64         1.44           10.24"
   ]
  },
  {
   "cell_type": "markdown",
   "id": "f7584556",
   "metadata": {},
   "source": [
    "**Variância** = (3.24 + 3.24 + 0.64 + 1.44 + 10.24) / 5"
   ]
  },
  {
   "cell_type": "markdown",
   "id": "67460c77",
   "metadata": {},
   "source": [
    "### Variância = 18.8 / 5 = 3.76"
   ]
  },
  {
   "cell_type": "markdown",
   "id": "dfa658fa",
   "metadata": {},
   "source": [
    "<b>------------------------------------------------------------------------------------------------------------------------------------------------------------------------------------------------------------------</b>\n",
    "\n",
    "## Desvio Padrão"
   ]
  },
  {
   "cell_type": "markdown",
   "id": "f3a67528",
   "metadata": {},
   "source": [
    "O desvio padrão é a raiz quadrada da variância"
   ]
  },
  {
   "cell_type": "markdown",
   "id": "19de44c1",
   "metadata": {},
   "source": [
    "![.](Desvio_Padrao.GIF)"
   ]
  },
  {
   "cell_type": "markdown",
   "id": "fbb34167",
   "metadata": {},
   "source": [
    "<b>------------------------------------------------------------------------------------------------------------------------------------------------------------------------------------------------------------------</b>"
   ]
  }
 ],
 "metadata": {
  "kernelspec": {
   "display_name": "Python 3 (ipykernel)",
   "language": "python",
   "name": "python3"
  },
  "language_info": {
   "codemirror_mode": {
    "name": "ipython",
    "version": 3
   },
   "file_extension": ".py",
   "mimetype": "text/x-python",
   "name": "python",
   "nbconvert_exporter": "python",
   "pygments_lexer": "ipython3",
   "version": "3.9.13"
  }
 },
 "nbformat": 4,
 "nbformat_minor": 5
}
